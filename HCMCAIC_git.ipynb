{
  "nbformat": 4,
  "nbformat_minor": 0,
  "metadata": {
    "colab": {
      "name": "HCMCAIC_git",
      "provenance": [],
      "collapsed_sections": [],
      "mount_file_id": "10EsqdggpFetduS2wTa8IW2nOnvAH1LkU",
      "authorship_tag": "ABX9TyPle2ZFbGrWcMHPrsOmHZ65",
      "include_colab_link": true
    },
    "kernelspec": {
      "name": "python3",
      "display_name": "Python 3"
    }
  },
  "cells": [
    {
      "cell_type": "markdown",
      "metadata": {
        "id": "view-in-github",
        "colab_type": "text"
      },
      "source": [
        "<a href=\"https://colab.research.google.com/github/huylg/hcmaic_tqker/blob/master/HCMCAIC_git.ipynb\" target=\"_parent\"><img src=\"https://colab.research.google.com/assets/colab-badge.svg\" alt=\"Open In Colab\"/></a>"
      ]
    },
    {
      "cell_type": "code",
      "metadata": {
        "id": "y0Hltc_WAMSx",
        "colab_type": "code",
        "colab": {
          "base_uri": "https://localhost:8080/",
          "height": 136
        },
        "outputId": "82c0c88f-8d8b-42d0-dd53-a172b916810f"
      },
      "source": [
        "!git clone https://github.com/ultralytics/yolov5.git"
      ],
      "execution_count": 4,
      "outputs": [
        {
          "output_type": "stream",
          "text": [
            "Cloning into 'yolov5'...\n",
            "remote: Enumerating objects: 42, done.\u001b[K\n",
            "remote: Counting objects: 100% (42/42), done.\u001b[K\n",
            "remote: Compressing objects: 100% (35/35), done.\u001b[K\n",
            "remote: Total 2227 (delta 15), reused 16 (delta 7), pack-reused 2185\u001b[K\n",
            "Receiving objects: 100% (2227/2227), 5.32 MiB | 4.29 MiB/s, done.\n",
            "Resolving deltas: 100% (1450/1450), done.\n"
          ],
          "name": "stdout"
        }
      ]
    },
    {
      "cell_type": "code",
      "metadata": {
        "id": "YdKmqdeoBtvN",
        "colab_type": "code",
        "colab": {
          "base_uri": "https://localhost:8080/",
          "height": 34
        },
        "outputId": "d2b8653b-845a-4c16-c7a0-ac129b89c464"
      },
      "source": [
        "%cd yolov5"
      ],
      "execution_count": 1,
      "outputs": [
        {
          "output_type": "stream",
          "text": [
            "/content/yolov5\n"
          ],
          "name": "stdout"
        }
      ]
    },
    {
      "cell_type": "code",
      "metadata": {
        "id": "D8t6fvHpLDF4",
        "colab_type": "code",
        "colab": {
          "base_uri": "https://localhost:8080/",
          "height": 34
        },
        "outputId": "8b258b3c-45db-46cb-a94b-c7608a12ea79"
      },
      "source": [
        "!cp -r '/content/drive/My Drive/aic-hcmc2020/videos' /content/video\n",
        "!cp  '/content/drive/My Drive/output_yolov5/runs/exp1/weights/best.pt' /content/weights"
      ],
      "execution_count": 1,
      "outputs": [
        {
          "output_type": "stream",
          "text": [
            "^C\n"
          ],
          "name": "stdout"
        }
      ]
    },
    {
      "cell_type": "code",
      "metadata": {
        "id": "72E0ySIM66Xv",
        "colab_type": "code",
        "colab": {}
      },
      "source": [
        "import sys\n",
        "import os\n",
        "import cv2\n",
        "import argparse\n",
        "from tqdm import tqdm\n",
        "from detect import *"
      ],
      "execution_count": 2,
      "outputs": []
    },
    {
      "cell_type": "code",
      "metadata": {
        "id": "OVeq6DT7-M6B",
        "colab_type": "code",
        "cellView": "code",
        "colab": {
          "base_uri": "https://localhost:8080/",
          "height": 853
        },
        "outputId": "3a6456e1-5117-4c55-a061-9bfdac696bec"
      },
      "source": [
        "\n",
        "#@markdown Your videos is stored in: \n",
        "\n",
        "input_video_dir='/content/video'\n",
        "weight_path = '/content/weights/best.pt'\n",
        "#@markdown  Frames extracted from videos will be stored in:\n",
        "output_submit_dir='/content/output'\n",
        "video_paths = []\n",
        "for r, d, f in os.walk(input_video_dir):\n",
        "    for file in f:\n",
        "        if '.mp4' in file:\n",
        "            video_paths.append(os.path.join(r, file))\n",
        "\n",
        "\n",
        "for video_path in video_paths:\n",
        "    print(video_path)\n",
        "\n",
        "\n",
        "opt = Option(weight_path,conf_thres=0.4,output_path=output_submit_dir)\n",
        "print(opt.output, opt.source, opt.weights, opt.view_img, opt.save_txt, opt.img_size)\n",
        "detector_tmp = detector(opt)\n",
        "for video_path in video_paths:\n",
        "  vid_cap = cv2.VideoCapture(video_path)\n",
        "  num_frms, original_fps = int(vid_cap.get(cv2.CAP_PROP_FRAME_COUNT)), vid_cap.get(cv2.CAP_PROP_FPS)\n",
        "\n",
        "## Number of skip frames\n",
        "  time_stride = 1\n",
        "  for frm_id in (range(0, num_frms, time_stride)):\n",
        "      vid_cap.set(cv2.CAP_PROP_POS_FRAMES, frm_id)\n",
        "      _, im = vid_cap.read()\n",
        "      cv2.imwrite('test.jpg', im)\n",
        "      opt.source = 'test.jpg'\n",
        "      pred = detector_tmp.detect(opt)\n",
        "      print(pred)"
      ],
      "execution_count": null,
      "outputs": [
        {
          "output_type": "stream",
          "text": [
            "Using CPU\n",
            "\n"
          ],
          "name": "stderr"
        },
        {
          "output_type": "stream",
          "text": [
            "/content/video/videos/cam_12.mp4\n",
            "/content/video/videos/cam_01.mp4\n",
            "/content/video/videos/cam_04.mp4\n",
            "/content/video/videos/cam_22.mp4\n",
            "/content/video/videos/cam_17.mp4\n",
            "/content/video/videos/cam_08.mp4\n",
            "/content/video/videos/cam_23.mp4\n",
            "/content/video/videos/cam_10.mp4\n",
            "/content/video/videos/cam_05.mp4\n",
            "/content/video/videos/cam_13.mp4\n",
            "/content/video/videos/cam_07.mp4\n",
            "/content/video/videos/cam_11.mp4\n",
            "/content/video/videos/cam_09.mp4\n",
            "/content/video/videos/cam_16.mp4\n",
            "/content/video/videos/cam_18.mp4\n",
            "/content/video/videos/cam_02.mp4\n",
            "/content/video/videos/cam_24.mp4\n",
            "/content/video/videos/cam_19.mp4\n",
            "/content/video/videos/cam_14.mp4\n",
            "/content/video/videos/cam_03.mp4\n",
            "/content/video/videos/cam_25.mp4\n",
            "/content/video/videos/cam_21.mp4\n",
            "/content/video/videos/cam_20.mp4\n",
            "/content/video/videos/cam_06.mp4\n",
            "/content/video/videos/cam_15.mp4\n",
            "/content/output  /content/weights/best.pt False False 640\n",
            "Fusing layers... \n"
          ],
          "name": "stdout"
        },
        {
          "output_type": "stream",
          "text": [
            "Model Summary: 284 layers, 8.84108e+07 parameters, 8.45317e+07 gradients\n"
          ],
          "name": "stderr"
        },
        {
          "output_type": "stream",
          "text": [
            "image 1/1 /content/yolov5/test.jpg: [(((855, 274), (885, 319)), 0), (((971, 238), (1003, 272)), 0), (((1165, 385), (1206, 456)), 0), (((755, 632), (839, 719)), 0), (((125, 324), (253, 388)), 1)]\n",
            "image 1/1 /content/yolov5/test.jpg: [(((855, 274), (885, 319)), 0), (((971, 238), (1003, 272)), 0), (((1165, 385), (1206, 456)), 0), (((756, 633), (839, 718)), 0), (((125, 324), (253, 388)), 1)]\n",
            "image 1/1 /content/yolov5/test.jpg: [(((854, 271), (879, 314)), 0), (((972, 239), (1003, 272)), 0), (((1165, 386), (1206, 455)), 0), (((815, 583), (881, 702)), 0), (((87, 330), (211, 398)), 1)]\n",
            "image 1/1 /content/yolov5/test.jpg: [(((977, 237), (1002, 271)), 0), (((1014, 289), (1035, 328)), 0), (((852, 267), (875, 311)), 0), (((1165, 386), (1207, 455)), 0), (((84, 335), (194, 399)), 1), (((839, 560), (899, 679)), 0)]\n",
            "image 1/1 /content/yolov5/test.jpg: [(((977, 237), (1002, 271)), 0), (((1014, 289), (1035, 328)), 0), (((852, 268), (875, 311)), 0), (((1165, 386), (1207, 455)), 0), (((85, 335), (193, 399)), 1), (((839, 560), (899, 679)), 0)]\n",
            "image 1/1 /content/yolov5/test.jpg: [(((978, 236), (1002, 271)), 0), (((1010, 289), (1032, 329)), 0), (((86, 338), (170, 401)), 1), (((849, 264), (872, 311)), 0), (((1165, 386), (1206, 455)), 0), (((865, 533), (919, 643)), 0)]\n",
            "image 1/1 /content/yolov5/test.jpg: [(((978, 237), (1003, 270)), 0), (((1008, 286), (1030, 328)), 0), (((845, 264), (868, 306)), 0), (((1165, 386), (1207, 455)), 0), (((883, 515), (933, 618)), 0)]\n",
            "image 1/1 /content/yolov5/test.jpg: [(((978, 237), (1003, 270)), 0), (((1008, 286), (1030, 328)), 0), (((845, 264), (868, 306)), 0), (((1165, 386), (1207, 455)), 0), (((883, 515), (933, 618)), 0)]\n",
            "image 1/1 /content/yolov5/test.jpg: [(((1005, 285), (1026, 325)), 0), (((842, 261), (864, 304)), 0), (((1165, 385), (1207, 455)), 0), (((898, 498), (947, 598)), 0)]\n",
            "image 1/1 /content/yolov5/test.jpg: [(((0, 356), (26, 420)), 1), (((838, 257), (860, 299)), 0), (((1003, 286), (1023, 325)), 0), (((1165, 386), (1206, 455)), 0), (((912, 479), (955, 576)), 0)]\n",
            "image 1/1 /content/yolov5/test.jpg: [(((0, 356), (26, 420)), 1), (((838, 257), (860, 299)), 0), (((1003, 286), (1023, 325)), 0), (((1165, 386), (1206, 455)), 0), (((911, 479), (955, 576)), 0)]\n",
            "image 1/1 /content/yolov5/test.jpg: [(((0, 354), (26, 421)), 1), (((836, 256), (857, 297)), 0), (((1001, 282), (1021, 323)), 0), (((1165, 386), (1206, 455)), 0), (((920, 464), (965, 558)), 0)]\n",
            "image 1/1 /content/yolov5/test.jpg: [(((0, 348), (28, 420)), 1), (((831, 254), (854, 293)), 0), (((995, 280), (1016, 321)), 0), (((1165, 385), (1207, 455)), 0), (((931, 448), (971, 541)), 0)]\n",
            "image 1/1 /content/yolov5/test.jpg: [(((0, 348), (28, 420)), 1), (((831, 254), (854, 293)), 0), (((995, 280), (1016, 321)), 0), (((1165, 385), (1207, 455)), 0), (((931, 448), (971, 541)), 0)]\n",
            "image 1/1 /content/yolov5/test.jpg: [(((828, 252), (850, 289)), 0), (((991, 279), (1013, 319)), 0), (((1165, 385), (1207, 455)), 0), (((937, 438), (977, 522)), 0)]\n",
            "image 1/1 /content/yolov5/test.jpg: [(((987, 275), (1009, 317)), 0), (((824, 250), (845, 288)), 0), (((1165, 385), (1207, 455)), 0), (((943, 425), (982, 509)), 0)]\n",
            "image 1/1 /content/yolov5/test.jpg: [(((987, 275), (1009, 317)), 0), (((824, 250), (845, 288)), 0), (((1165, 385), (1207, 455)), 0), (((943, 425), (982, 509)), 0)]\n",
            "image 1/1 /content/yolov5/test.jpg: "
          ],
          "name": "stdout"
        }
      ]
    }
  ]
}